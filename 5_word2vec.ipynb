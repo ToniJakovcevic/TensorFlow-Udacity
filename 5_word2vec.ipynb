{
 "cells": [
  {
   "cell_type": "markdown",
   "metadata": {
    "colab_type": "text",
    "id": "D7tqLMoKF6uq"
   },
   "source": [
    "Deep Learning\n",
    "=============\n",
    "\n",
    "Assignment 5\n",
    "------------\n",
    "\n",
    "The goal of this assignment is to train a skip-gram model over [Text8](http://mattmahoney.net/dc/textdata) data."
   ]
  },
  {
   "cell_type": "code",
   "execution_count": 5,
   "metadata": {
    "cellView": "both",
    "colab": {
     "autoexec": {
      "startup": false,
      "wait_interval": 0
     }
    },
    "colab_type": "code",
    "collapsed": true,
    "id": "0K1ZyLn04QZf"
   },
   "outputs": [],
   "source": [
    "# These are all the modules we'll be using later. Make sure you can import them\n",
    "# before proceeding further.\n",
    "import collections\n",
    "import math\n",
    "import numpy as np\n",
    "import os\n",
    "import random\n",
    "import tensorflow as tf\n",
    "import zipfile\n",
    "from matplotlib import pylab\n",
    "from six.moves import range\n",
    "from six.moves.urllib.request import urlretrieve\n",
    "from sklearn.manifold import TSNE"
   ]
  },
  {
   "cell_type": "markdown",
   "metadata": {
    "colab_type": "text",
    "id": "aCjPJE944bkV"
   },
   "source": [
    "Download the data from the source website if necessary."
   ]
  },
  {
   "cell_type": "code",
   "execution_count": 6,
   "metadata": {
    "cellView": "both",
    "colab": {
     "autoexec": {
      "startup": false,
      "wait_interval": 0
     },
     "output_extras": [
      {
       "item_id": 1
      }
     ]
    },
    "colab_type": "code",
    "collapsed": false,
    "executionInfo": {
     "elapsed": 14640,
     "status": "ok",
     "timestamp": 1445964482948,
     "user": {
      "color": "#1FA15D",
      "displayName": "Vincent Vanhoucke",
      "isAnonymous": false,
      "isMe": true,
      "permissionId": "05076109866853157986",
      "photoUrl": "//lh6.googleusercontent.com/-cCJa7dTDcgQ/AAAAAAAAAAI/AAAAAAAACgw/r2EZ_8oYer4/s50-c-k-no/photo.jpg",
      "sessionId": "2f1ffade4c9f20de",
      "userId": "102167687554210253930"
     },
     "user_tz": 420
    },
    "id": "RJ-o3UBUFtCw",
    "outputId": "c4ec222c-80b5-4298-e635-93ca9f79c3b7"
   },
   "outputs": [
    {
     "name": "stdout",
     "output_type": "stream",
     "text": [
      "Found and verified text8.zip\n"
     ]
    }
   ],
   "source": [
    "url = 'http://mattmahoney.net/dc/'\n",
    "\n",
    "def maybe_download(filename, expected_bytes):\n",
    "  \"\"\"Download a file if not present, and make sure it's the right size.\"\"\"\n",
    "  if not os.path.exists(filename):\n",
    "    filename, _ = urlretrieve(url + filename, filename)\n",
    "  statinfo = os.stat(filename)\n",
    "  if statinfo.st_size == expected_bytes:\n",
    "    print('Found and verified %s' % filename)\n",
    "  else:\n",
    "    print(statinfo.st_size)\n",
    "    raise Exception(\n",
    "      'Failed to verify ' + filename + '. Can you get to it with a browser?')\n",
    "  return filename\n",
    "\n",
    "filename = maybe_download('text8.zip', 31344016)"
   ]
  },
  {
   "cell_type": "markdown",
   "metadata": {
    "colab_type": "text",
    "id": "Zqz3XiqI4mZT"
   },
   "source": [
    "Read the data into a string."
   ]
  },
  {
   "cell_type": "code",
   "execution_count": 7,
   "metadata": {
    "cellView": "both",
    "colab": {
     "autoexec": {
      "startup": false,
      "wait_interval": 0
     },
     "output_extras": [
      {
       "item_id": 1
      }
     ]
    },
    "colab_type": "code",
    "collapsed": false,
    "executionInfo": {
     "elapsed": 28844,
     "status": "ok",
     "timestamp": 1445964497165,
     "user": {
      "color": "#1FA15D",
      "displayName": "Vincent Vanhoucke",
      "isAnonymous": false,
      "isMe": true,
      "permissionId": "05076109866853157986",
      "photoUrl": "//lh6.googleusercontent.com/-cCJa7dTDcgQ/AAAAAAAAAAI/AAAAAAAACgw/r2EZ_8oYer4/s50-c-k-no/photo.jpg",
      "sessionId": "2f1ffade4c9f20de",
      "userId": "102167687554210253930"
     },
     "user_tz": 420
    },
    "id": "Mvf09fjugFU_",
    "outputId": "e3a928b4-1645-4fe8-be17-fcf47de5716d"
   },
   "outputs": [
    {
     "name": "stdout",
     "output_type": "stream",
     "text": [
      "Data size 17005207\n"
     ]
    }
   ],
   "source": [
    "def read_data(filename):\n",
    "  f = zipfile.ZipFile(filename)\n",
    "  for name in f.namelist():\n",
    "    return tf.compat.as_str(f.read(name)).split()\n",
    "  f.close()\n",
    "  \n",
    "words = read_data(filename)\n",
    "print('Data size %d' % len(words))"
   ]
  },
  {
   "cell_type": "markdown",
   "metadata": {
    "colab_type": "text",
    "id": "Zdw6i4F8glpp"
   },
   "source": [
    "Build the dictionary and replace rare words with UNK token."
   ]
  },
  {
   "cell_type": "code",
   "execution_count": 8,
   "metadata": {
    "cellView": "both",
    "colab": {
     "autoexec": {
      "startup": false,
      "wait_interval": 0
     },
     "output_extras": [
      {
       "item_id": 1
      }
     ]
    },
    "colab_type": "code",
    "collapsed": false,
    "executionInfo": {
     "elapsed": 28849,
     "status": "ok",
     "timestamp": 1445964497178,
     "user": {
      "color": "#1FA15D",
      "displayName": "Vincent Vanhoucke",
      "isAnonymous": false,
      "isMe": true,
      "permissionId": "05076109866853157986",
      "photoUrl": "//lh6.googleusercontent.com/-cCJa7dTDcgQ/AAAAAAAAAAI/AAAAAAAACgw/r2EZ_8oYer4/s50-c-k-no/photo.jpg",
      "sessionId": "2f1ffade4c9f20de",
      "userId": "102167687554210253930"
     },
     "user_tz": 420
    },
    "id": "gAL1EECXeZsD",
    "outputId": "3fb4ecd1-df67-44b6-a2dc-2291730970b2"
   },
   "outputs": [
    {
     "name": "stdout",
     "output_type": "stream",
     "text": [
      "('Most common words (+UNK)', [['UNK', 418391], ('the', 1061396), ('of', 593677), ('and', 416629), ('one', 411764)])\n",
      "('Sample data', [5239, 3084, 12, 6, 195, 2, 3137, 46, 59, 156])\n"
     ]
    }
   ],
   "source": [
    "vocabulary_size = 50000\n",
    "\n",
    "def build_dataset(words):\n",
    "  count = [['UNK', -1]]\n",
    "  count.extend(collections.Counter(words).most_common(vocabulary_size - 1))\n",
    "  dictionary = dict()\n",
    "  for word, _ in count:\n",
    "    dictionary[word] = len(dictionary)\n",
    "  data = list()\n",
    "  unk_count = 0\n",
    "  for word in words:\n",
    "    if word in dictionary:\n",
    "      index = dictionary[word]\n",
    "    else:\n",
    "      index = 0  # dictionary['UNK']\n",
    "      unk_count = unk_count + 1\n",
    "    data.append(index)\n",
    "  count[0][1] = unk_count\n",
    "  reverse_dictionary = dict(zip(dictionary.values(), dictionary.keys())) \n",
    "  return data, count, dictionary, reverse_dictionary\n",
    "\n",
    "data, count, dictionary, reverse_dictionary = build_dataset(words)\n",
    "print('Most common words (+UNK)', count[:5])\n",
    "print('Sample data', data[:10])\n",
    "del words  # Hint to reduce memory."
   ]
  },
  {
   "cell_type": "markdown",
   "metadata": {
    "colab_type": "text",
    "id": "lFwoyygOmWsL"
   },
   "source": [
    "Function to generate a training batch for the skip-gram model."
   ]
  },
  {
   "cell_type": "code",
   "execution_count": 14,
   "metadata": {
    "cellView": "both",
    "colab": {
     "autoexec": {
      "startup": false,
      "wait_interval": 0
     },
     "output_extras": [
      {
       "item_id": 1
      }
     ]
    },
    "colab_type": "code",
    "collapsed": false,
    "executionInfo": {
     "elapsed": 113,
     "status": "ok",
     "timestamp": 1445964901989,
     "user": {
      "color": "#1FA15D",
      "displayName": "Vincent Vanhoucke",
      "isAnonymous": false,
      "isMe": true,
      "permissionId": "05076109866853157986",
      "photoUrl": "//lh6.googleusercontent.com/-cCJa7dTDcgQ/AAAAAAAAAAI/AAAAAAAACgw/r2EZ_8oYer4/s50-c-k-no/photo.jpg",
      "sessionId": "2f1ffade4c9f20de",
      "userId": "102167687554210253930"
     },
     "user_tz": 420
    },
    "id": "w9APjA-zmfjV",
    "outputId": "67cccb02-cdaf-4e47-d489-43bcc8d57bb8"
   },
   "outputs": [
    {
     "name": "stdout",
     "output_type": "stream",
     "text": [
      "('data:', ['anarchism', 'originated', 'as', 'a', 'term', 'of', 'abuse', 'first'])\n",
      "\n",
      "with num_skips = 2 and skip_window = 1:\n",
      "('    batch:', ['originated', 'originated', 'as', 'as', 'a', 'a', 'term', 'term'])\n",
      "('    labels:', ['anarchism', 'as', 'originated', 'a', 'as', 'term', 'of', 'a'])\n",
      "\n",
      "with num_skips = 4 and skip_window = 2:\n",
      "('    batch:', ['as', 'as', 'as', 'as', 'a', 'a', 'a', 'a'])\n",
      "('    labels:', ['anarchism', 'a', 'originated', 'term', 'of', 'term', 'originated', 'as'])\n"
     ]
    }
   ],
   "source": [
    "data_index = 0\n",
    "\n",
    "def generate_batch(batch_size, num_skips, skip_window):\n",
    "  global data_index\n",
    "  assert batch_size % num_skips == 0\n",
    "  assert num_skips <= 2 * skip_window\n",
    "  batch = np.ndarray(shape=(batch_size), dtype=np.int32)\n",
    "  labels = np.ndarray(shape=(batch_size, 1), dtype=np.int32)\n",
    "  span = 2 * skip_window + 1 # [ skip_window target skip_window ]\n",
    "  buffer = collections.deque(maxlen=span)\n",
    "  for _ in range(span):\n",
    "    buffer.append(data[data_index])\n",
    "    data_index = (data_index + 1) % len(data)\n",
    "  for i in range(batch_size // num_skips):\n",
    "    target = skip_window  # target label at the center of the buffer\n",
    "    targets_to_avoid = [ skip_window ]\n",
    "    for j in range(num_skips):\n",
    "      while target in targets_to_avoid:\n",
    "        target = random.randint(0, span - 1)\n",
    "      targets_to_avoid.append(target)\n",
    "      batch[i * num_skips + j] = buffer[skip_window]\n",
    "      labels[i * num_skips + j, 0] = buffer[target]\n",
    "    buffer.append(data[data_index])\n",
    "    data_index = (data_index + 1) % len(data)\n",
    "  return batch, labels\n",
    "\n",
    "print('data:', [reverse_dictionary[di] for di in data[:8]])\n",
    "\n",
    "for num_skips, skip_window in [(2, 1), (4, 2)]:\n",
    "    data_index = 0\n",
    "    batch, labels = generate_batch(batch_size=8, num_skips=num_skips, skip_window=skip_window)\n",
    "    print('\\nwith num_skips = %d and skip_window = %d:' % (num_skips, skip_window))\n",
    "    print('    batch:', [reverse_dictionary[bi] for bi in batch])\n",
    "    print('    labels:', [reverse_dictionary[li] for li in labels.reshape(8)])"
   ]
  },
  {
   "cell_type": "markdown",
   "metadata": {
    "colab_type": "text",
    "id": "Ofd1MbBuwiva"
   },
   "source": [
    "Train a skip-gram model."
   ]
  },
  {
   "cell_type": "code",
   "execution_count": 15,
   "metadata": {
    "cellView": "both",
    "colab": {
     "autoexec": {
      "startup": false,
      "wait_interval": 0
     }
    },
    "colab_type": "code",
    "collapsed": true,
    "id": "8pQKsV4Vwlzy"
   },
   "outputs": [],
   "source": [
    "batch_size = 128\n",
    "embedding_size = 128 # Dimension of the embedding vector.\n",
    "skip_window = 1 # How many words to consider left and right.\n",
    "num_skips = 2 # How many times to reuse an input to generate a label.\n",
    "# We pick a random validation set to sample nearest neighbors. here we limit the\n",
    "# validation samples to the words that have a low numeric ID, which by\n",
    "# construction are also the most frequent. \n",
    "valid_size = 16 # Random set of words to evaluate similarity on.\n",
    "valid_window = 100 # Only pick dev samples in the head of the distribution.\n",
    "valid_examples = np.array(random.sample(range(valid_window), valid_size))\n",
    "num_sampled = 64 # Number of negative examples to sample.\n",
    "\n",
    "graph = tf.Graph()\n",
    "\n",
    "with graph.as_default():\n",
    "\n",
    "  # Input data.\n",
    "  train_dataset = tf.placeholder(tf.int32, shape=[batch_size])\n",
    "  train_labels = tf.placeholder(tf.int32, shape=[batch_size, 1])\n",
    "  valid_dataset = tf.constant(valid_examples, dtype=tf.int32)\n",
    "  \n",
    "  # Variables.\n",
    "  embeddings = tf.Variable(\n",
    "    tf.random_uniform([vocabulary_size, embedding_size], -1.0, 1.0))\n",
    "  softmax_weights = tf.Variable(\n",
    "    tf.truncated_normal([vocabulary_size, embedding_size],\n",
    "                         stddev=1.0 / math.sqrt(embedding_size)))\n",
    "  softmax_biases = tf.Variable(tf.zeros([vocabulary_size]))\n",
    "  \n",
    "  # Model.\n",
    "  # Look up embeddings for inputs.\n",
    "  embed = tf.nn.embedding_lookup(embeddings, train_dataset)\n",
    "  # Compute the softmax loss, using a sample of the negative labels each time.\n",
    "  loss = tf.reduce_mean(\n",
    "    tf.nn.sampled_softmax_loss(softmax_weights, softmax_biases, embed,\n",
    "                               train_labels, num_sampled, vocabulary_size))\n",
    "\n",
    "  # Optimizer.\n",
    "  optimizer = tf.train.AdagradOptimizer(1.0).minimize(loss)\n",
    "  \n",
    "  # Compute the similarity between minibatch examples and all embeddings.\n",
    "  # We use the cosine distance:\n",
    "  norm = tf.sqrt(tf.reduce_sum(tf.square(embeddings), 1, keep_dims=True))\n",
    "  normalized_embeddings = embeddings / norm\n",
    "  valid_embeddings = tf.nn.embedding_lookup(\n",
    "    normalized_embeddings, valid_dataset)\n",
    "  similarity = tf.matmul(valid_embeddings, tf.transpose(normalized_embeddings))"
   ]
  },
  {
   "cell_type": "code",
   "execution_count": 16,
   "metadata": {
    "cellView": "both",
    "colab": {
     "autoexec": {
      "startup": false,
      "wait_interval": 0
     },
     "output_extras": [
      {
       "item_id": 23
      },
      {
       "item_id": 48
      },
      {
       "item_id": 61
      }
     ]
    },
    "colab_type": "code",
    "collapsed": false,
    "executionInfo": {
     "elapsed": 436189,
     "status": "ok",
     "timestamp": 1445965429787,
     "user": {
      "color": "#1FA15D",
      "displayName": "Vincent Vanhoucke",
      "isAnonymous": false,
      "isMe": true,
      "permissionId": "05076109866853157986",
      "photoUrl": "//lh6.googleusercontent.com/-cCJa7dTDcgQ/AAAAAAAAAAI/AAAAAAAACgw/r2EZ_8oYer4/s50-c-k-no/photo.jpg",
      "sessionId": "2f1ffade4c9f20de",
      "userId": "102167687554210253930"
     },
     "user_tz": 420
    },
    "id": "1bQFGceBxrWW",
    "outputId": "5ebd6d9a-33c6-4bcd-bf6d-252b0b6055e4"
   },
   "outputs": [
    {
     "name": "stdout",
     "output_type": "stream",
     "text": [
      "Initialized\n",
      "Average loss at step 0: 7.989069\n",
      "Nearest to new: aziz, zaman, monks, metaphors, eldorado, isaak, marcel, ingolstadt,\n",
      "Nearest to history: alb, zeros, histories, profanity, rejoining, commenting, locomotive, realm,\n",
      "Nearest to with: shakur, brews, tuple, crouching, penetrative, schenectady, cooperative, splicing,\n",
      "Nearest to eight: disgraced, indulged, ulm, lengthy, shock, gad, resolved, hildebrand,\n",
      "Nearest to at: off, velarized, extortion, wheatstone, standardizing, chapels, foretold, everly,\n",
      "Nearest to seven: hides, braces, rejoining, eigenstates, gallica, assad, benito, ein,\n",
      "Nearest to an: crudely, jovian, mcclelland, cameras, multitasking, cymru, miscarriage, dbv,\n",
      "Nearest to and: kissing, rods, andries, perspectives, flamethrower, arnauld, miraculously, clement,\n",
      "Nearest to by: shillings, disasters, coe, hitler, alexandrovna, filmed, headset, tack,\n",
      "Nearest to use: motorsport, manifestos, autocad, meteorologist, bligh, sentiment, producer, kpa,\n",
      "Nearest to people: hurried, priam, deposited, unprovable, chromatography, cyclops, lal, melaka,\n",
      "Nearest to d: phosphorus, chilling, hydroponics, perdition, soaking, necrosis, steering, ebenezer,\n",
      "Nearest to most: pippin, endomorphisms, totleben, tanach, fervent, ceramics, orb, weapon,\n",
      "Nearest to will: smelter, maintainer, nate, immorality, radiation, volunteer, heiland, revisit,\n",
      "Nearest to so: jehoshaphat, frequencies, spectrometers, cola, boost, serge, consulates, lechuck,\n",
      "Nearest to s: karelian, intelligent, tat, shu, abroad, wiley, outbreak, chandler,\n",
      "Average loss at step 2000: 4.356914\n",
      "Average loss at step 4000: 3.863519\n",
      "Average loss at step 6000: 3.786051\n",
      "Average loss at step 8000: 3.681560\n",
      "Average loss at step 10000: 3.610553\n",
      "Nearest to new: pancho, kilkenny, zaman, biot, superfluid, isaak, metaphors, trebizond,\n",
      "Nearest to history: list, zeros, alb, lb, profanity, gravitationally, mikael, adaptor,\n",
      "Nearest to with: in, from, for, pratyeka, by, following, gave, harmonies,\n",
      "Nearest to eight: nine, seven, six, five, three, four, zero, two,\n",
      "Nearest to at: in, off, original, pulmonic, on, orchestral, girardeau, of,\n",
      "Nearest to seven: six, eight, five, nine, four, three, zero, two,\n",
      "Nearest to an: the, cymru, obtain, lankan, hijra, multitasking, spenser, fresnel,\n",
      "Nearest to and: or, who, posthumous, he, leprosy, clairvoyance, d, adolescence,\n",
      "Nearest to by: in, like, teased, was, heist, be, from, hellbender,\n",
      "Nearest to use: motorsport, terms, pederasty, increments, foy, cti, hampered, lax,\n",
      "Nearest to people: chromatography, anything, ambedkar, coq, hurried, deposited, confident, behind,\n",
      "Nearest to d: soaking, phosphorus, and, chilling, decomposing, hydroponics, unanswered, b,\n",
      "Nearest to most: ptc, more, pippin, robberies, fervent, stylized, lex, beneficiary,\n",
      "Nearest to will: smelter, should, could, burst, can, feign, may, bishops,\n",
      "Nearest to so: sqq, thinkpad, otaku, ys, proletarian, macpherson, wah, centrality,\n",
      "Nearest to s: his, vide, chameleon, stuffed, regan, eastman, rupee, dormitories,\n",
      "Average loss at step 12000: 3.606725\n",
      "Average loss at step 14000: 3.568253\n",
      "Average loss at step 16000: 3.409834\n",
      "Average loss at step 18000: 3.454306\n",
      "Average loss at step 20000: 3.538872\n",
      "Nearest to new: factional, dominican, pancho, apparel, trebizond, ingolstadt, metaphors, dolphins,\n",
      "Nearest to history: list, alb, lb, zeros, sosa, profanity, adaptor, gravitationally,\n",
      "Nearest to with: between, by, in, harmonies, for, conferencing, pratyeka, or,\n",
      "Nearest to eight: nine, seven, six, four, five, three, two, zero,\n",
      "Nearest to at: in, on, off, during, under, dab, above, within,\n",
      "Nearest to seven: eight, six, nine, three, four, five, two, zero,\n",
      "Nearest to an: the, eider, miscarriage, cymru, multitasking, cond, bestow, fresnel,\n",
      "Nearest to and: or, phoenicians, but, in, which, getty, gonzalez, parkway,\n",
      "Nearest to by: be, teased, against, in, for, with, villain, heist,\n",
      "Nearest to use: terms, increments, motorsport, sizable, blitter, unplugged, warps, knicks,\n",
      "Nearest to people: chromatography, raza, confident, programs, sufferer, coq, concise, anything,\n",
      "Nearest to d: b, soaking, famicom, noon, decomposing, wargames, rameau, marcello,\n",
      "Nearest to most: more, some, ptc, beneficiary, lex, cfm, much, stylized,\n",
      "Nearest to will: can, would, could, should, may, smelter, might, burst,\n",
      "Nearest to so: sqq, otaku, ys, centrality, thinkpad, bag, macpherson, chadic,\n",
      "Nearest to s: lens, verdun, must, nai, templar, cru, planning, ccf,\n",
      "Average loss at step 22000: 3.498182\n",
      "Average loss at step 24000: 3.485044\n",
      "Average loss at step 26000: 3.483495\n",
      "Average loss at step 28000: 3.478970\n",
      "Average loss at step 30000: 3.503393\n",
      "Nearest to new: egan, biot, austin, degrades, vagueness, upper, trebizond, spaced,\n",
      "Nearest to history: list, alb, capital, zeros, lb, profanity, ainsworth, sosa,\n",
      "Nearest to with: between, in, by, harmonies, under, around, including, rockabilly,\n",
      "Nearest to eight: seven, nine, five, six, four, three, zero, two,\n",
      "Nearest to at: during, in, deakin, on, since, above, within, orchestral,\n",
      "Nearest to seven: four, eight, five, nine, six, three, two, zero,\n",
      "Nearest to an: signet, it, verifiable, diploma, fresnel, dancehall, operative, cymru,\n",
      "Nearest to and: or, phoenicians, in, but, who, invalidating, untold, of,\n",
      "Nearest to by: teased, with, was, in, when, against, were, inside,\n",
      "Nearest to use: severing, terms, measure, unplugged, motorsport, knicks, sentiment, dislodge,\n",
      "Nearest to people: countries, individuals, collectors, sighted, chromatography, sufferer, raza, anything,\n",
      "Nearest to d: b, births, soaking, noon, decomposing, rameau, famicom, w,\n",
      "Nearest to most: more, some, many, lex, arabic, ptc, arboreal, stylized,\n",
      "Nearest to will: can, would, could, should, may, might, shall, must,\n",
      "Nearest to so: sqq, aggravating, otaku, ys, thinkpad, krause, retention, taito,\n",
      "Nearest to s: his, lens, stuffed, verdun, mithra, chameleon, mice, astrobiology,\n",
      "Average loss at step 32000: 3.498709\n",
      "Average loss at step 34000: 3.488890\n",
      "Average loss at step 36000: 3.452130\n",
      "Average loss at step 38000: 3.304570\n",
      "Average loss at step 40000: 3.431361\n",
      "Nearest to new: playoffs, austin, rosenthal, ordaining, legates, biot, incorporeal, molson,\n",
      "Nearest to history: list, alb, ryle, lb, zeros, wisest, art, osmotic,\n",
      "Nearest to with: between, including, musa, masonry, blob, rockabilly, jeffries, milton,\n",
      "Nearest to eight: seven, nine, six, four, five, three, zero, two,\n",
      "Nearest to at: during, on, vacancies, since, before, in, savory, yours,\n",
      "Nearest to seven: eight, six, five, nine, four, three, zero, two,\n",
      "Nearest to an: eider, shawar, dancehall, tutors, operative, weaving, heston, diploma,\n",
      "Nearest to and: but, or, including, in, where, to, are, annalen,\n",
      "Nearest to by: bosman, teased, adhesion, when, elf, interpreter, judaica, grossing,\n",
      "Nearest to use: measure, severing, terms, unplugged, caine, kaiju, existence, sentiment,\n",
      "Nearest to people: countries, individuals, anything, speakers, caterpillars, autonomist, sighted, tei,\n",
      "Nearest to d: b, UNK, decomposing, w, frederick, f, noon, inquisition,\n",
      "Nearest to most: more, some, among, arboreal, many, gascon, overworld, pertwee,\n",
      "Nearest to will: would, can, could, may, should, must, might, shall,\n",
      "Nearest to so: chadic, ys, repeats, sqq, retention, thinkpad, disadvantage, eventually,\n",
      "Nearest to s: his, jennifer, bogies, lens, jock, hwv, mutable, hutchison,\n",
      "Average loss at step 42000: 3.434276\n",
      "Average loss at step 44000: 3.454920\n",
      "Average loss at step 46000: 3.452117\n",
      "Average loss at step 48000: 3.350514\n",
      "Average loss at step 50000: 3.381443\n",
      "Nearest to new: minimising, televangelist, incorporeal, degrades, ordaining, rosenthal, playoffs, vagueness,\n",
      "Nearest to history: list, alb, wisest, lb, art, belize, osmotic, warm,\n",
      "Nearest to with: between, masonry, bathtub, by, monophyletic, carbohydrates, nta, including,\n",
      "Nearest to eight: six, seven, nine, four, five, three, two, zero,\n",
      "Nearest to at: during, vacancies, in, near, ordinate, pulmonic, on, guevara,\n",
      "Nearest to seven: six, eight, nine, four, five, three, zero, two,\n",
      "Nearest to an: maharal, eider, signet, diploma, kilmister, weaving, miscarriage, the,\n",
      "Nearest to and: or, but, of, in, while, however, fanzine, than,\n",
      "Nearest to by: was, heist, teased, through, under, bosman, in, rockingham,\n",
      "Nearest to use: measure, terms, severing, blitter, oils, aegis, shorthand, unplugged,\n",
      "Nearest to people: children, countries, individuals, men, speakers, sighted, them, concise,\n",
      "Nearest to d: b, decomposing, w, noon, frederick, reactor, landtag, f,\n",
      "Nearest to most: more, some, proceedings, less, khrushchev, many, motherboards, arboreal,\n",
      "Nearest to will: would, could, can, should, may, must, might, shall,\n",
      "Nearest to so: aggravating, leda, chadic, then, unchangeable, candide, sqq, creeping,\n",
      "Nearest to s: templar, stuffed, his, and, jock, routers, pointless, bites,\n",
      "Average loss at step 52000: 3.435718\n",
      "Average loss at step 54000: 3.422908\n",
      "Average loss at step 56000: 3.440340\n",
      "Average loss at step 58000: 3.395190\n",
      "Average loss at step 60000: 3.391366\n",
      "Nearest to new: minimising, chauffeur, televangelist, biot, incorporeal, future, rosenthal, degrades,\n",
      "Nearest to history: list, politics, art, belize, liturgical, realm, philosophy, capital,\n",
      "Nearest to with: between, when, in, by, masonry, under, including, and,\n",
      "Nearest to eight: six, nine, seven, four, five, three, zero, two,\n",
      "Nearest to at: in, during, near, here, vacancies, severance, within, guevara,\n",
      "Nearest to seven: eight, six, nine, four, five, three, zero, one,\n",
      "Nearest to an: operative, crudely, weaving, miscarriage, maharal, signet, hohmann, tutors,\n",
      "Nearest to and: or, but, fanzine, including, in, however, from, coppola,\n",
      "Nearest to by: teased, through, bosman, heist, with, under, beckham, grossing,\n",
      "Nearest to use: measure, terms, most, severing, caine, suppressor, problem, oils,\n",
      "Nearest to people: countries, speakers, children, men, individuals, players, sighted, others,\n",
      "Nearest to d: b, w, decomposing, noon, landtag, warsaw, f, c,\n",
      "Nearest to most: more, some, many, less, use, proceedings, abramovich, motherboards,\n",
      "Nearest to will: would, could, can, may, must, should, might, shall,\n",
      "Nearest to so: chadic, aggravating, unchangeable, if, antiderivatives, eventually, sqq, but,\n",
      "Nearest to s: stuffed, templar, whose, astrodome, syn, rho, must, directives,\n",
      "Average loss at step 62000: 3.240759\n",
      "Average loss at step 64000: 3.258383\n",
      "Average loss at step 66000: 3.401896\n",
      "Average loss at step 68000: 3.392988\n",
      "Average loss at step 70000: 3.360055\n",
      "Nearest to new: minimising, biot, zilog, televangelist, restorations, ordaining, legates, playoffs,\n",
      "Nearest to history: list, politics, art, wisest, botanist, realm, belize, encyclopedia,\n",
      "Nearest to with: between, when, including, rockabilly, repellent, hoaxes, blob, masonry,\n",
      "Nearest to eight: nine, six, seven, four, five, three, zero, one,\n",
      "Nearest to at: during, above, card, in, on, near, repellent, within,\n",
      "Nearest to seven: six, eight, nine, four, five, three, two, one,\n",
      "Nearest to an: crudely, operative, dancehall, maharal, weaving, glassware, signet, responded,\n",
      "Nearest to and: or, but, fanzine, like, modesty, while, however, ecozone,\n",
      "Nearest to by: through, poodle, teased, grossing, bosman, judaica, attendances, from,\n",
      "Nearest to use: measure, severing, terms, most, oils, suppressor, unplugged, cretinism,\n",
      "Nearest to people: children, men, countries, speakers, individuals, others, fans, members,\n",
      "Nearest to d: b, w, f, noon, landtag, vii, decomposing, marcello,\n",
      "Nearest to most: more, less, many, particularly, some, all, abramovich, proceedings,\n",
      "Nearest to will: would, could, may, can, must, should, might, cannot,\n",
      "Nearest to so: thus, unchangeable, aggravating, eventually, if, chadic, antiderivatives, molality,\n",
      "Nearest to s: forefathers, verdun, whose, templar, lens, gerund, cheesemaking, pointless,\n",
      "Average loss at step 72000: 3.371962\n",
      "Average loss at step 74000: 3.341073\n",
      "Average loss at step 76000: 3.313376\n",
      "Average loss at step 78000: 3.350747\n",
      "Average loss at step 80000: 3.376607\n",
      "Nearest to new: minimising, rosenthal, zilog, dolphins, vagueness, televangelist, thai, biomedical,\n",
      "Nearest to history: list, politics, isc, regardless, alb, coiled, sosa, aegis,\n",
      "Nearest to with: including, between, when, repellent, bin, sluggish, using, unpaired,\n",
      "Nearest to eight: nine, six, seven, five, four, three, zero, one,\n",
      "Nearest to at: on, in, above, during, after, wheatstone, posit, within,\n",
      "Nearest to seven: six, five, four, eight, nine, three, zero, two,\n",
      "Nearest to an: icp, prudence, crudely, linemen, icbms, edda, wadi, maharal,\n",
      "Nearest to and: or, but, including, cylinders, boomerang, loudly, castillian, loris,\n",
      "Nearest to by: bosman, teased, heist, through, loosely, adhesion, popper, comma,\n",
      "Nearest to use: measure, because, cretinism, way, mitochondrial, resurgence, unplugged, form,\n",
      "Nearest to people: children, men, speakers, individuals, fans, students, countries, members,\n",
      "Nearest to d: b, f, noon, landtag, brasil, w, hist, realignment,\n",
      "Nearest to most: more, less, many, some, particularly, pepin, horseback, proceedings,\n",
      "Nearest to will: could, would, can, may, must, should, might, cannot,\n",
      "Nearest to so: if, aggravating, thus, eventually, chadic, unchangeable, then, jagiellon,\n",
      "Nearest to s: isbn, stuffed, bites, bogies, verdun, dwight, eberhard, repudiate,\n",
      "Average loss at step 82000: 3.404259\n",
      "Average loss at step 84000: 3.407667\n",
      "Average loss at step 86000: 3.389384\n",
      "Average loss at step 88000: 3.347230\n",
      "Average loss at step 90000: 3.364552\n",
      "Nearest to new: particular, austin, zilog, incorporeal, whole, playoffs, pancho, rosenthal,\n",
      "Nearest to history: list, politics, alb, isc, regardless, icj, coat, liturgical,\n",
      "Nearest to with: between, including, by, in, using, letterboxed, for, mendelssohn,\n",
      "Nearest to eight: seven, nine, six, five, four, three, zero, two,\n",
      "Nearest to at: in, during, after, under, near, dials, within, on,\n",
      "Nearest to seven: eight, six, four, nine, five, three, zero, two,\n",
      "Nearest to an: kenner, maharal, mango, fresnel, eider, icp, responded, weaving,\n",
      "Nearest to and: or, but, while, including, fanzine, ecozone, undetermined, pilgrims,\n",
      "Nearest to by: through, under, using, with, adhesion, heist, teased, when,\n",
      "Nearest to use: because, measure, pertain, suppressor, terms, most, addition, caine,\n",
      "Nearest to people: children, men, students, speakers, fans, individuals, jews, members,\n",
      "Nearest to d: b, f, noon, hist, landtag, realignment, thruster, accentuated,\n",
      "Nearest to most: less, more, some, many, particularly, especially, pepin, overworld,\n",
      "Nearest to will: would, could, can, may, must, might, should, cannot,\n",
      "Nearest to so: thus, if, says, unchangeable, molality, beyond, antiderivatives, then,\n",
      "Nearest to s: stuffed, isbn, whose, his, verdun, lens, jock, bites,\n",
      "Average loss at step 92000: 3.398129\n",
      "Average loss at step 94000: 3.248968\n",
      "Average loss at step 96000: 3.355954\n",
      "Average loss at step 98000: 3.240107\n",
      "Average loss at step 100000: 3.353944\n",
      "Nearest to new: different, zilog, minimising, severly, incorporeal, whole, specific, austin,\n",
      "Nearest to history: list, politics, alb, isc, osmotic, botanist, coat, harappan,\n",
      "Nearest to with: between, including, in, using, masonry, despotate, during, bathtub,\n",
      "Nearest to eight: seven, nine, six, four, five, three, two, zero,\n",
      "Nearest to at: during, vacancies, in, until, after, under, within, on,\n",
      "Nearest to seven: eight, six, nine, four, five, three, two, zero,\n",
      "Nearest to an: another, crudely, icp, nutritious, signet, nipple, legitimize, toolbars,\n",
      "Nearest to and: or, but, however, although, while, of, when, fanzine,\n",
      "Nearest to by: when, bosman, teased, using, adhesion, through, bohdan, elf,\n",
      "Nearest to use: measure, because, most, users, kaiju, pertain, way, sense,\n",
      "Nearest to people: children, men, speakers, students, individuals, fans, sighted, players,\n",
      "Nearest to d: b, luz, tusks, carr, famicom, dum, vert, herodotus,\n",
      "Nearest to most: more, less, particularly, some, especially, extremely, among, many,\n",
      "Nearest to will: would, could, must, can, may, should, might, cannot,\n",
      "Nearest to so: thus, if, aggravating, unchangeable, then, eventually, molality, chadic,\n",
      "Nearest to s: whose, isbn, his, tsh, jock, nolo, my, unused,\n"
     ]
    }
   ],
   "source": [
    "num_steps = 100001\n",
    "\n",
    "with tf.Session(graph=graph) as session:\n",
    "  tf.initialize_all_variables().run()\n",
    "  print('Initialized')\n",
    "  average_loss = 0\n",
    "  for step in range(num_steps):\n",
    "    batch_data, batch_labels = generate_batch(\n",
    "      batch_size, num_skips, skip_window)\n",
    "    feed_dict = {train_dataset : batch_data, train_labels : batch_labels}\n",
    "    _, l = session.run([optimizer, loss], feed_dict=feed_dict)\n",
    "    average_loss += l\n",
    "    if step % 2000 == 0:\n",
    "      if step > 0:\n",
    "        average_loss = average_loss / 2000\n",
    "      # The average loss is an estimate of the loss over the last 2000 batches.\n",
    "      print('Average loss at step %d: %f' % (step, average_loss))\n",
    "      average_loss = 0\n",
    "    # note that this is expensive (~20% slowdown if computed every 500 steps)\n",
    "    if step % 10000 == 0:\n",
    "      sim = similarity.eval()\n",
    "      for i in xrange(valid_size):\n",
    "        valid_word = reverse_dictionary[valid_examples[i]]\n",
    "        top_k = 8 # number of nearest neighbors\n",
    "        nearest = (-sim[i, :]).argsort()[1:top_k+1]\n",
    "        log = 'Nearest to %s:' % valid_word\n",
    "        for k in xrange(top_k):\n",
    "          close_word = reverse_dictionary[nearest[k]]\n",
    "          log = '%s %s,' % (log, close_word)\n",
    "        print(log)\n",
    "  final_embeddings = normalized_embeddings.eval()"
   ]
  },
  {
   "cell_type": "code",
   "execution_count": 17,
   "metadata": {
    "cellView": "both",
    "colab": {
     "autoexec": {
      "startup": false,
      "wait_interval": 0
     }
    },
    "colab_type": "code",
    "collapsed": true,
    "id": "jjJXYA_XzV79"
   },
   "outputs": [],
   "source": [
    "num_points = 400\n",
    "\n",
    "tsne = TSNE(perplexity=30, n_components=2, init='pca', n_iter=5000)\n",
    "two_d_embeddings = tsne.fit_transform(final_embeddings[1:num_points+1, :])"
   ]
  },
  {
   "cell_type": "code",
   "execution_count": 18,
   "metadata": {
    "cellView": "both",
    "colab": {
     "autoexec": {
      "startup": false,
      "wait_interval": 0
     },
     "output_extras": [
      {
       "item_id": 1
      }
     ]
    },
    "colab_type": "code",
    "collapsed": false,
    "executionInfo": {
     "elapsed": 4763,
     "status": "ok",
     "timestamp": 1445965465525,
     "user": {
      "color": "#1FA15D",
      "displayName": "Vincent Vanhoucke",
      "isAnonymous": false,
      "isMe": true,
      "permissionId": "05076109866853157986",
      "photoUrl": "//lh6.googleusercontent.com/-cCJa7dTDcgQ/AAAAAAAAAAI/AAAAAAAACgw/r2EZ_8oYer4/s50-c-k-no/photo.jpg",
      "sessionId": "2f1ffade4c9f20de",
      "userId": "102167687554210253930"
     },
     "user_tz": 420
    },
    "id": "o_e0D_UezcDe",
    "outputId": "df22e4a5-e8ec-4e5e-d384-c6cf37c68c34"
   },
   "outputs": [],
   "source": [
    "def plot(embeddings, labels):\n",
    "  assert embeddings.shape[0] >= len(labels), 'More labels than embeddings'\n",
    "  pylab.figure(figsize=(15,15))  # in inches\n",
    "  for i, label in enumerate(labels):\n",
    "    x, y = embeddings[i,:]\n",
    "    pylab.scatter(x, y)\n",
    "    pylab.annotate(label, xy=(x, y), xytext=(5, 2), textcoords='offset points',\n",
    "                   ha='right', va='bottom')\n",
    "  pylab.show()\n",
    "\n",
    "words = [reverse_dictionary[i] for i in range(1, num_points+1)]\n",
    "plot(two_d_embeddings, words)"
   ]
  },
  {
   "cell_type": "markdown",
   "metadata": {
    "colab_type": "text",
    "id": "QB5EFrBnpNnc"
   },
   "source": [
    "---\n",
    "\n",
    "Problem\n",
    "-------\n",
    "\n",
    "An alternative to Word2Vec is called [CBOW](http://arxiv.org/abs/1301.3781) (Continuous Bag of Words). In the CBOW model, instead of predicting a context word from a word vector, you predict a word from the sum of all the word vectors in its context. Implement and evaluate a CBOW model trained on the text8 dataset.\n",
    "\n",
    "---"
   ]
  },
  {
   "cell_type": "markdown",
   "metadata": {
    "colab_type": "text",
    "id": "QB5EFrBnpNnc"
   },
   "source": [
    "Solution\n",
    "-------\n",
    "\n",
    "Implemented and evaluated a CBOW model trained on the text8 dataset.\n",
    "\n",
    "---"
   ]
  },
  {
   "cell_type": "code",
   "execution_count": 9,
   "metadata": {
    "collapsed": false
   },
   "outputs": [
    {
     "name": "stdout",
     "output_type": "stream",
     "text": [
      "('data:', ['anarchism', 'originated', 'as', 'a', 'term', 'of', 'abuse', 'first'])\n",
      "\n",
      "with num_skips = 2 and skip_window = 1:\n",
      "('    batch:', ['originated', 'originated', 'as', 'as', 'a', 'a', 'term', 'term'])\n",
      "('    labels:', ['as', 'anarchism', 'a', 'originated', 'as', 'term', 'a', 'of'])\n",
      "\n",
      "with num_skips = 4 and skip_window = 2:\n",
      "('    batch:', ['as', 'as', 'as', 'as', 'a', 'a', 'a', 'a'])\n",
      "('    labels:', ['originated', 'term', 'anarchism', 'a', 'originated', 'term', 'of', 'as'])\n"
     ]
    }
   ],
   "source": [
    "data_index = 0\n",
    "\n",
    "def generate_batch(batch_size, num_skips, skip_window):\n",
    "  global data_index\n",
    "  assert batch_size % num_skips == 0\n",
    "  assert num_skips <= 2 * skip_window\n",
    "  batch = np.ndarray(shape=(batch_size), dtype=np.int32)\n",
    "  labels = np.ndarray(shape=(batch_size, 1), dtype=np.int32)\n",
    "  span = 2 * skip_window + 1 # [ skip_window target skip_window ]\n",
    "  buffer = collections.deque(maxlen=span)\n",
    "  for _ in range(span):\n",
    "    buffer.append(data[data_index])\n",
    "    data_index = (data_index + 1) % len(data)\n",
    "  for i in range(batch_size // num_skips):\n",
    "    target = skip_window  # target label at the center of the buffer\n",
    "    targets_to_avoid = [ skip_window ]\n",
    "    for j in range(num_skips):\n",
    "      while target in targets_to_avoid:\n",
    "        target = random.randint(0, span - 1)\n",
    "      targets_to_avoid.append(target)\n",
    "      batch[i * num_skips + j] = buffer[skip_window]\n",
    "      labels[i * num_skips + j, 0] = buffer[target]\n",
    "    buffer.append(data[data_index])\n",
    "    data_index = (data_index + 1) % len(data)\n",
    "  return batch, labels\n",
    "\n",
    "print('data:', [reverse_dictionary[di] for di in data[:8]])\n",
    "\n",
    "for num_skips, skip_window in [(2, 1), (4, 2)]:\n",
    "    data_index = 0\n",
    "    batch, labels = generate_batch(batch_size=8, num_skips=num_skips, skip_window=skip_window)\n",
    "    print('\\nwith num_skips = %d and skip_window = %d:' % (num_skips, skip_window))\n",
    "    print('    batch:', [reverse_dictionary[bi] for bi in batch])\n",
    "    print('    labels:', [reverse_dictionary[li] for li in labels.reshape(8)])"
   ]
  },
  {
   "cell_type": "code",
   "execution_count": 10,
   "metadata": {
    "collapsed": false
   },
   "outputs": [
    {
     "name": "stdout",
     "output_type": "stream",
     "text": [
      "('data:', ['anarchism', 'originated', 'as', 'a', 'term', 'of', 'abuse', 'first', 'used', 'against', 'early', 'working', 'class', 'radicals', 'including'])\n",
      "('    batch:', ['anarchism', 'as', 'originated', 'a', 'as', 'term', 'a', 'of', 'term', 'abuse'])\n",
      "('    labels:', ['originated', 'as', 'a', 'term', 'of'])\n"
     ]
    }
   ],
   "source": [
    "contextSize=1 #How many words left and right to take in context\n",
    "data_index = contextSize\n",
    "data_start_batch=10\n",
    "data_count=len(data)-contextSize\n",
    "def generate_batch(batch_size):\n",
    "  global data_index\n",
    "  global data_start_batch\n",
    "  global contextSize\n",
    "  batch = np.ndarray(shape=(batch_size), dtype=np.int32)\n",
    "  labels = np.ndarray(shape=(batch_size/2, 1), dtype=np.int32)\n",
    "  batchIndex=0;\n",
    "  for di in xrange(data_index,data_index+(batch_size/2)):\n",
    "    batch[batchIndex]=data[di-1];\n",
    "    batch[batchIndex+1]=data[di+1];\n",
    "    labels[(batchIndex+2)/2-1]=data[di];\n",
    "    #labels[batchIndex+1]=data[di];\n",
    "    batchIndex=batchIndex+2;\n",
    "  data_index=data_index+(batch_size/2)\n",
    "  return batch, labels\n",
    "\n",
    "print('data:', [reverse_dictionary[di] for di in data[:15]])\n",
    "\n",
    "ba,la=generate_batch(10)\n",
    "print('    batch:', [reverse_dictionary[bi] for bi in ba])\n",
    "print('    labels:', [reverse_dictionary[li] for li in la.reshape(5)])\n"
   ]
  },
  {
   "cell_type": "code",
   "execution_count": 11,
   "metadata": {
    "collapsed": false
   },
   "outputs": [
    {
     "name": "stdout",
     "output_type": "stream",
     "text": [
      "Tensor(\"Placeholder:0\", shape=TensorShape([Dimension(128)]), dtype=int32)\n",
      "Tensor(\"embedding_lookup:0\", shape=TensorShape([Dimension(128), Dimension(128)]), dtype=float32)\n",
      "Embed_joined Tensor(\"SegmentSum:0\", shape=TensorShape([Dimension(None), Dimension(128)]), dtype=float32)\n",
      "Train labels Tensor(\"Placeholder_1:0\", shape=TensorShape([Dimension(64), Dimension(1)]), dtype=int32)\n",
      "Initialized\n",
      "Average loss at step 0: 8.193285\n",
      "Nearest to all: gernika, doren, sneaking, vuoksi, coincided, mazda, bixby, albigensian,\n",
      "Nearest to s: interludes, austral, pave, ways, arawak, method, stoughton, liquidation,\n",
      "Nearest to that: governs, injured, hairpin, gil, bureaucracies, cynics, berthold, integral,\n",
      "Nearest to eight: roxbury, infanta, erbium, tripolitania, praise, erosive, unofficial, recordings,\n",
      "Nearest to its: quarry, handler, jm, francophone, scalpel, shuffled, robo, compose,\n",
      "Nearest to one: beatboxing, coco, biggs, bluish, received, lotharingia, mudslides, torvalds,\n",
      "Nearest to if: huike, haba, nevsky, daedalus, werewolves, edi, genet, shamir,\n",
      "Nearest to they: purge, rusting, sibley, elusive, stiff, hypocritical, excessive, popularizer,\n",
      "Nearest to their: omphalos, wants, juliette, provence, adhere, pursuing, naps, terrace,\n",
      "Nearest to while: ditch, hi, eos, bysshe, assets, bolan, trask, jainism,\n",
      "Nearest to about: iphigenia, bounces, encirclement, dinosaurs, spearheaded, nephites, nikolay, fern,\n",
      "Nearest to people: soninke, allyn, misogynist, farmland, casale, resistances, acyclic, buddy,\n",
      "Nearest to years: pigs, korea, uc, usage, timurid, jigs, chesapeake, eyre,\n",
      "Nearest to of: dormitory, histidine, oxidizes, guessing, endurance, boycotts, delved, isolationist,\n",
      "Nearest to this: disintegrated, juliette, downwind, joked, hats, macromedia, dnow, duplication,\n",
      "Nearest to been: assad, steinberg, advaita, maru, dojo, coax, rhetoric, redistribute,\n",
      "Average loss at step 2000: 4.225583\n",
      "Average loss at step 4000: 3.640155\n",
      "Average loss at step 6000: 3.527481\n",
      "Average loss at step 8000: 3.383832\n",
      "Average loss at step 10000: 3.254996\n",
      "Nearest to all: many, most, anglicised, reconciling, telescope, dueling, fractures, batmobile,\n",
      "Nearest to s: his, slot, islamists, equivalents, the, flavored, allocated, surname,\n",
      "Nearest to that: which, pollination, what, bureaucracies, comp, alen, vehement, zquez,\n",
      "Nearest to eight: nine, six, five, seven, three, zero, four, two,\n",
      "Nearest to its: their, his, the, monopolize, witold, dubh, our, incursion,\n",
      "Nearest to one: three, two, five, seven, six, nine, four, eight,\n",
      "Nearest to if: do, parlay, vowed, will, pearls, eighties, means, devotees,\n",
      "Nearest to they: we, he, there, it, not, you, who, she,\n",
      "Nearest to their: its, his, her, our, thresholds, signaled, typographical, sorel,\n",
      "Nearest to while: conciliatory, biruni, oc, rick, grosz, loma, envious, despite,\n",
      "Nearest to about: fern, gauguin, distanced, peres, deirdre, eui, maastricht, attalus,\n",
      "Nearest to people: oxidation, men, cassatt, numerous, stages, outdoor, merton, segmentation,\n",
      "Nearest to years: perpendicularly, pigs, controversies, straits, disaffected, three, fluorides, bigg,\n",
      "Nearest to of: in, from, for, einsatzgruppen, colette, carbonated, tbs, princesses,\n",
      "Nearest to this: it, the, which, downwind, asking, thanks, ley, emergent,\n",
      "Nearest to been: cpc, become, habr, be, candela, seeded, slashdot, rebates,\n",
      "Average loss at step 12000: 3.272858\n",
      "Average loss at step 14000: 3.286574\n",
      "Average loss at step 16000: 3.064822\n",
      "Average loss at step 18000: 2.971551\n",
      "Average loss at step 20000: 3.161022\n",
      "Nearest to all: many, several, those, any, composting, some, batmobile, these,\n",
      "Nearest to s: isopropyl, his, gyeongsang, liquidation, kidd, flavored, lalr, saline,\n",
      "Nearest to that: which, what, who, ascendant, this, because, however, it,\n",
      "Nearest to eight: nine, seven, six, four, five, three, zero, two,\n",
      "Nearest to its: their, his, our, the, economic, isopropyl, leetspeak, whose,\n",
      "Nearest to one: two, three, five, eight, seven, six, nine, four,\n",
      "Nearest to if: when, without, where, is, parlay, do, though, herzl,\n",
      "Nearest to they: we, he, she, there, you, it, who, dowager,\n",
      "Nearest to their: its, his, her, our, my, the, witold, any,\n",
      "Nearest to while: despite, bijelo, but, are, although, ebola, after, mfm,\n",
      "Nearest to about: smallest, industrious, reed, over, rubicon, ceos, xx, laozi,\n",
      "Nearest to people: men, countries, paulist, segregationist, bribe, cases, facilities, shatila,\n",
      "Nearest to years: days, perpendicularly, times, sravaka, decades, reunified, year, months,\n",
      "Nearest to of: persuades, in, during, gloves, bonanza, for, although, amaziah,\n",
      "Nearest to this: it, which, the, estimating, what, his, a, that,\n",
      "Nearest to been: become, be, already, traditionally, habr, was, being, harlem,\n",
      "Average loss at step 22000: 3.080013\n",
      "Average loss at step 24000: 3.053837\n",
      "Average loss at step 26000: 3.053950\n",
      "Average loss at step 28000: 3.071227\n",
      "Average loss at step 30000: 3.015984\n",
      "Nearest to all: many, those, various, some, royale, any, millions, rotor,\n",
      "Nearest to s: isbn, fealty, champlain, the, badges, irreverent, emulators, trainees,\n",
      "Nearest to that: which, what, if, kyrenia, where, how, shouts, however,\n",
      "Nearest to eight: nine, four, six, seven, five, three, zero, two,\n",
      "Nearest to its: their, the, his, our, whose, stilgar, northamptonshire, jng,\n",
      "Nearest to one: two, seven, four, three, five, eight, ams, nine,\n",
      "Nearest to if: when, where, that, though, kiki, offenses, will, concedes,\n",
      "Nearest to they: we, there, he, you, she, actually, dowager, these,\n",
      "Nearest to their: its, his, her, our, whose, the, witold, my,\n",
      "Nearest to while: though, before, although, but, could, when, after, steadfastly,\n",
      "Nearest to about: laozi, ceos, ville, xx, on, reed, frenchman, industrious,\n",
      "Nearest to people: men, women, languages, tsh, segregationist, children, calibration, jews,\n",
      "Nearest to years: days, months, year, times, decades, weeks, centuries, percent,\n",
      "Nearest to of: and, in, tanya, diels, einsatzgruppen, multiracial, moron, for,\n",
      "Nearest to this: which, it, what, hairpin, the, another, takers, there,\n",
      "Nearest to been: become, was, already, never, previously, tutored, traditionally, were,\n",
      "Average loss at step 32000: 3.075629\n",
      "Average loss at step 34000: 3.023766\n",
      "Average loss at step 36000: 3.040462\n",
      "Average loss at step 38000: 2.932230\n",
      "Average loss at step 40000: 2.820552\n",
      "Nearest to all: both, some, any, various, many, those, urdu, several,\n",
      "Nearest to s: huddersfield, his, foolish, nurture, isbn, flavored, anjiro, andrey,\n",
      "Nearest to that: which, but, however, what, this, there, bureaucracies, these,\n",
      "Nearest to eight: nine, six, four, seven, zero, five, three, two,\n",
      "Nearest to its: their, his, her, the, your, whose, our, cabbie,\n",
      "Nearest to one: four, seven, two, eight, six, five, zero, nine,\n",
      "Nearest to if: though, when, where, kiki, could, however, savoie, holman,\n",
      "Nearest to they: we, he, you, she, there, these, it, i,\n",
      "Nearest to their: his, its, her, your, my, the, whose, our,\n",
      "Nearest to while: although, oc, however, irradiated, goblins, were, before, among,\n",
      "Nearest to about: xx, titled, emergent, cebu, cohen, reed, idiots, phage,\n",
      "Nearest to people: jews, women, men, languages, persons, calibration, catchment, christians,\n",
      "Nearest to years: months, days, times, decades, reunified, centuries, weeks, success,\n",
      "Nearest to of: in, including, and, kundalini, tanya, lycos, sparring, during,\n",
      "Nearest to this: it, which, what, ley, that, hairpin, endocrine, sherwood,\n",
      "Nearest to been: become, be, was, payoff, perished, previously, already, were,\n",
      "Average loss at step 42000: 2.956379\n",
      "Average loss at step 44000: 2.971631\n",
      "Average loss at step 46000: 2.971876\n",
      "Average loss at step 48000: 2.963109\n",
      "Average loss at step 50000: 2.876281\n",
      "Nearest to all: every, any, various, both, only, corbusier, enterprise, cpc,\n",
      "Nearest to s: whose, his, isbn, of, her, dfts, pis, townshend,\n",
      "Nearest to that: however, which, what, where, then, bernstein, ascendant, taggart,\n",
      "Nearest to eight: nine, six, seven, four, five, three, two, zero,\n",
      "Nearest to its: their, his, the, her, seams, whose, witold, our,\n",
      "Nearest to one: two, three, four, seven, six, eight, nine, zero,\n",
      "Nearest to if: when, though, where, then, although, gantry, before, for,\n",
      "Nearest to they: we, he, there, you, she, i, dowager, nighthawk,\n",
      "Nearest to their: his, its, her, the, your, my, our, whose,\n",
      "Nearest to while: however, although, when, where, by, and, including, after,\n",
      "Nearest to about: xx, swedenborg, undoubtedly, od, cebu, handwritten, williamite, kenyan,\n",
      "Nearest to people: jews, children, men, players, nation, christians, reproach, starches,\n",
      "Nearest to years: days, months, decades, times, weeks, centuries, year, reunified,\n",
      "Nearest to of: in, s, kublai, colette, eldest, hani, drang, for,\n",
      "Nearest to this: which, it, some, the, what, another, our, regina,\n",
      "Nearest to been: become, be, being, was, already, previously, payoff, traditionally,\n",
      "Average loss at step 52000: 2.857712\n",
      "Average loss at step 54000: 2.921948\n",
      "Average loss at step 56000: 2.911776\n",
      "Average loss at step 58000: 2.967043\n",
      "Average loss at step 60000: 2.842197\n",
      "Nearest to all: various, those, every, any, both, enterprise, each, aquatic,\n",
      "Nearest to s: and, whose, isbn, musics, gestae, townshend, acronyms, dane,\n",
      "Nearest to that: which, what, this, bernstein, who, however, where, bureaucracies,\n",
      "Nearest to eight: nine, six, seven, four, five, three, zero, two,\n",
      "Nearest to its: their, his, her, whose, your, canonicity, seams, lesion,\n",
      "Nearest to one: two, five, six, seven, four, eight, nine, zero,\n",
      "Nearest to if: though, where, when, nicaraguan, before, flockhart, accolades, should,\n",
      "Nearest to they: we, you, she, there, he, it, not, never,\n",
      "Nearest to their: its, her, his, your, witold, whose, the, our,\n",
      "Nearest to while: although, when, though, where, after, before, including, and,\n",
      "Nearest to about: od, deirdre, undoubtedly, xx, abacus, distilling, around, cohen,\n",
      "Nearest to people: jews, women, men, persons, players, children, years, fans,\n",
      "Nearest to years: days, decades, months, weeks, times, centuries, reunified, minutes,\n",
      "Nearest to of: from, without, for, where, within, with, calves, roxbury,\n",
      "Nearest to this: which, it, that, what, hairpin, ingesting, wicklow, ley,\n",
      "Nearest to been: become, be, were, was, already, previously, payoff, come,\n",
      "Average loss at step 62000: 2.927622\n",
      "Average loss at step 64000: 2.820839\n",
      "Average loss at step 66000: 2.479528\n",
      "Average loss at step 68000: 2.898168\n",
      "Average loss at step 70000: 2.863834\n",
      "Nearest to all: any, many, both, every, bridgeport, several, various, some,\n",
      "Nearest to s: isbn, agena, vivre, dan, yaqub, constitutive, barefoot, galloway,\n",
      "Nearest to that: which, what, however, this, how, mccay, about, nucleon,\n",
      "Nearest to eight: nine, six, seven, five, four, three, zero, two,\n",
      "Nearest to its: their, his, whose, her, the, our, witold, your,\n",
      "Nearest to one: two, six, five, seven, eight, four, three, qf,\n",
      "Nearest to if: though, when, where, since, although, could, emphasise, accolades,\n",
      "Nearest to they: we, there, you, he, she, dowager, seldom, it,\n",
      "Nearest to their: its, his, her, your, whose, my, our, the,\n",
      "Nearest to while: although, when, though, where, before, after, and, including,\n",
      "Nearest to about: how, kenyan, on, concerning, that, xx, around, regarding,\n",
      "Nearest to people: jews, women, men, fans, daley, reproach, americans, players,\n",
      "Nearest to years: days, months, weeks, decades, centuries, times, hours, minutes,\n",
      "Nearest to of: concerning, tanya, in, and, including, for, honourable, persuades,\n",
      "Nearest to this: which, the, it, that, what, similar, email, sherwood,\n",
      "Nearest to been: become, already, be, remained, previously, payoff, perished, recently,\n",
      "Average loss at step 72000: 2.825497\n",
      "Average loss at step 74000: 2.865987\n",
      "Average loss at step 76000: 2.807609\n",
      "Average loss at step 78000: 2.859348\n",
      "Average loss at step 80000: 2.762772\n",
      "Nearest to all: various, both, several, any, every, devotee, many, outside,\n",
      "Nearest to s: advocating, townshend, liquidation, worldcom, isbn, disagrees, flavored, emulators,\n",
      "Nearest to that: which, what, ascendant, this, bureaucracies, novelization, decomposition, however,\n",
      "Nearest to eight: nine, seven, six, five, four, zero, three, two,\n",
      "Nearest to its: their, his, the, her, whose, your, our, witold,\n",
      "Nearest to one: two, seven, six, eight, three, five, nine, four,\n",
      "Nearest to if: though, when, where, feel, without, until, namespace, nicaraguan,\n",
      "Nearest to they: he, you, we, she, there, it, soon, nemo,\n",
      "Nearest to their: his, its, her, your, our, my, the, any,\n",
      "Nearest to while: when, although, though, than, and, after, like, including,\n",
      "Nearest to about: gondor, on, limericks, fundamentally, rubicon, ville, anthropologists, eui,\n",
      "Nearest to people: women, men, jews, children, peoples, writers, individuals, americans,\n",
      "Nearest to years: days, months, decades, weeks, centuries, minutes, times, year,\n",
      "Nearest to of: from, throughout, lycos, including, angular, kublai, colette, zhaozhou,\n",
      "Nearest to this: it, which, what, some, that, sequencers, curative, there,\n",
      "Nearest to been: become, remained, be, already, previously, were, was, recently,\n",
      "Average loss at step 82000: 2.813046\n",
      "Average loss at step 84000: 2.822284\n",
      "Average loss at step 86000: 2.878242\n",
      "Average loss at step 88000: 2.875114\n",
      "Average loss at step 90000: 2.844200\n",
      "Nearest to all: both, any, several, various, certain, these, many, some,\n",
      "Nearest to s: his, whose, flavored, and, our, although, xuan, huddersfield,\n",
      "Nearest to that: which, however, bureaucracies, what, who, rebuke, berthold, nevertheless,\n",
      "Nearest to eight: nine, seven, five, six, four, three, zero, two,\n",
      "Nearest to its: their, his, the, whose, our, seams, her, witold,\n",
      "Nearest to one: two, seven, three, eight, four, nine, five, natures,\n",
      "Nearest to if: when, though, where, kiki, accolades, rowspan, nicaraguan, irishman,\n",
      "Nearest to they: we, he, you, there, she, it, dowager, soon,\n",
      "Nearest to their: his, her, its, my, our, your, the, whose,\n",
      "Nearest to while: for, although, when, after, before, though, and, however,\n",
      "Nearest to about: xx, concerning, levant, over, microbial, least, regarding, ville,\n",
      "Nearest to people: men, children, women, jews, players, someone, authors, writers,\n",
      "Nearest to years: days, decades, weeks, months, minutes, centuries, percent, hours,\n",
      "Nearest to of: in, including, following, maia, spline, eldest, for, during,\n",
      "Nearest to this: it, which, the, what, any, sonia, downwind, he,\n",
      "Nearest to been: become, be, previously, remained, was, were, miniature, universally,\n",
      "Average loss at step 92000: 2.806047\n",
      "Average loss at step 94000: 2.791790\n",
      "Average loss at step 96000: 2.830385\n",
      "Average loss at step 98000: 2.694161\n",
      "Average loss at step 100000: 2.789682\n",
      "Nearest to all: several, various, many, any, both, every, those, multiple,\n",
      "Nearest to s: whose, xuan, his, agena, isbn, silberman, larry, huddersfield,\n",
      "Nearest to that: which, what, bureaucracies, ascendant, nevertheless, however, battled, retro,\n",
      "Nearest to eight: nine, seven, four, six, five, three, zero, two,\n",
      "Nearest to its: their, his, her, the, our, your, seams, orca,\n",
      "Nearest to one: two, seven, eight, six, five, three, four, nine,\n",
      "Nearest to if: though, when, where, before, whether, nicaraguan, namespace, perhaps,\n",
      "Nearest to they: we, you, he, there, she, it, nemo, not,\n",
      "Nearest to their: its, his, your, her, my, our, these, whose,\n",
      "Nearest to while: when, before, although, after, though, began, scottsdale, however,\n",
      "Nearest to about: regarding, concerning, xx, on, around, audi, limericks, behind,\n",
      "Nearest to people: jews, players, women, men, children, students, christians, fans,\n",
      "Nearest to years: days, decades, months, weeks, minutes, centuries, percent, hours,\n",
      "Nearest to of: in, kublai, whose, tanya, besides, and, like, including,\n",
      "Nearest to this: which, the, it, some, another, that, sayed, sonia,\n",
      "Nearest to been: become, remained, be, recently, already, was, previously, payoff,\n"
     ]
    }
   ],
   "source": [
    "batch_size = 128\n",
    "embedding_size = 128 # Dimension of the embedding vector.\n",
    "skip_window = 1 # How many words to consider left and right.\n",
    "num_skips = 2 # How many times to reuse an input to generate a label.\n",
    "# We pick a random validation set to sample nearest neighbors. here we limit the\n",
    "# validation samples to the words that have a low numeric ID, which by\n",
    "# construction are also the most frequent. \n",
    "valid_size = 16 # Random set of words to evaluate similarity on.\n",
    "valid_window = 100 # Only pick dev samples in the head of the distribution.\n",
    "valid_examples = np.array(random.sample(range(valid_window), valid_size))\n",
    "num_sampled = 64 # Number of negative examples to sample.\n",
    "\n",
    "graph = tf.Graph()\n",
    "\n",
    "with graph.as_default():\n",
    "\n",
    "  # Input data.\n",
    "  #train_dataset = tf.placeholder(tf.int32, shape=[batch_size])\n",
    "  train_dataset = tf.placeholder(tf.int32, shape=[batch_size])\n",
    "  train_labels = tf.placeholder(tf.int32, shape=[batch_size/2, 1])\n",
    "  valid_dataset = tf.constant(valid_examples, dtype=tf.int32)\n",
    "  \n",
    "  # Variables.\n",
    "  embeddings = tf.Variable(\n",
    "    tf.random_uniform([vocabulary_size, embedding_size], -1.0, 1.0))\n",
    "  softmax_weights = tf.Variable(\n",
    "    tf.truncated_normal([vocabulary_size, embedding_size],\n",
    "                         stddev=1.0 / math.sqrt(embedding_size)))\n",
    "  softmax_biases = tf.Variable(tf.zeros([vocabulary_size]))\n",
    "  \n",
    "  # Model.\n",
    "  # Look up embeddings for inputs.\n",
    "  embed = tf.nn.embedding_lookup(embeddings, train_dataset)\n",
    "  # Compute the softmax loss, using a sample of the negative labels each time.\n",
    "  print train_dataset\n",
    "  print embed\n",
    "  \n",
    "  #Define segments for elements of the same context\n",
    "  segment_labels=np.zeros(batch_size, dtype=np.int32)\n",
    "  lbl=0;\n",
    "  for i in xrange(0,batch_size,2):\n",
    "        segment_labels[i]=lbl\n",
    "        segment_labels[i+1]=lbl\n",
    "        lbl=lbl+1\n",
    "  embed_joined=tf.segment_sum(embed,segment_labels);\n",
    "  print \"Embed_joined\", embed_joined\n",
    "  print \"Train labels\", train_labels  \n",
    "  loss = tf.reduce_mean(\n",
    "    tf.nn.sampled_softmax_loss(softmax_weights, softmax_biases, embed_joined,\n",
    "                               train_labels, num_sampled, vocabulary_size))\n",
    "\n",
    "  # Optimizer.\n",
    "  optimizer = tf.train.AdagradOptimizer(1.0).minimize(loss)\n",
    "  \n",
    "  # Compute the similarity between minibatch examples and all embeddings.\n",
    "  # We use the cosine distance:\n",
    "  norm = tf.sqrt(tf.reduce_sum(tf.square(embeddings), 1, keep_dims=True))\n",
    "  normalized_embeddings = embeddings / norm\n",
    "  valid_embeddings = tf.nn.embedding_lookup(\n",
    "    normalized_embeddings, valid_dataset)\n",
    "  similarity = tf.matmul(valid_embeddings, tf.transpose(normalized_embeddings))\n",
    "    \n",
    "num_steps = 100001\n",
    "\n",
    "with tf.Session(graph=graph) as session:\n",
    "  tf.initialize_all_variables().run()\n",
    "  print('Initialized')\n",
    "  average_loss = 0\n",
    "  for step in range(num_steps):\n",
    "    batch_data, batch_labels = generate_batch(\n",
    "      batch_size)\n",
    "    feed_dict = {train_dataset : batch_data, train_labels : batch_labels}\n",
    "    _, l = session.run([optimizer, loss], feed_dict=feed_dict)\n",
    "    average_loss += l\n",
    "    if step % 2000 == 0:\n",
    "      if step > 0:\n",
    "        average_loss = average_loss / 2000\n",
    "      # The average loss is an estimate of the loss over the last 2000 batches.\n",
    "      print('Average loss at step %d: %f' % (step, average_loss))\n",
    "      average_loss = 0\n",
    "    # note that this is expensive (~20% slowdown if computed every 500 steps)\n",
    "    if step % 10000 == 0:\n",
    "      sim = similarity.eval()\n",
    "      for i in xrange(valid_size):\n",
    "        valid_word = reverse_dictionary[valid_examples[i]]\n",
    "        top_k = 8 # number of nearest neighbors\n",
    "        nearest = (-sim[i, :]).argsort()[1:top_k+1]\n",
    "        log = 'Nearest to %s:' % valid_word\n",
    "        for k in xrange(top_k):\n",
    "          close_word = reverse_dictionary[nearest[k]]\n",
    "          log = '%s %s,' % (log, close_word)\n",
    "        print(log)\n",
    "  final_embeddings = normalized_embeddings.eval()"
   ]
  },
  {
   "cell_type": "code",
   "execution_count": 24,
   "metadata": {
    "collapsed": true
   },
   "outputs": [],
   "source": [
    "num_points = 400\n",
    "\n",
    "tsne = TSNE(perplexity=30, n_components=2, init='pca', n_iter=5000)\n",
    "two_d_embeddings = tsne.fit_transform(final_embeddings[1:num_points+1, :])"
   ]
  },
  {
   "cell_type": "code",
   "execution_count": null,
   "metadata": {
    "collapsed": true
   },
   "outputs": [],
   "source": [
    "def plot(embeddings, labels):\n",
    "  assert embeddings.shape[0] >= len(labels), 'More labels than embeddings'\n",
    "  pylab.figure(figsize=(15,15))  # in inches\n",
    "  for i, label in enumerate(labels):\n",
    "    x, y = embeddings[i,:]\n",
    "    pylab.scatter(x, y)\n",
    "    pylab.annotate(label, xy=(x, y), xytext=(5, 2), textcoords='offset points',\n",
    "                   ha='right', va='bottom')\n",
    "  pylab.show()\n",
    "\n",
    "words = [reverse_dictionary[i] for i in range(1, num_points+1)]\n",
    "plot(two_d_embeddings, words)"
   ]
  },
  {
   "cell_type": "code",
   "execution_count": 4,
   "metadata": {
    "collapsed": false
   },
   "outputs": [
    {
     "data": {
      "text/html": [
       "<img src=\"Assignment5.png\"/>"
      ],
      "text/plain": [
       "<IPython.core.display.Image object>"
      ]
     },
     "execution_count": 4,
     "metadata": {},
     "output_type": "execute_result"
    }
   ],
   "source": [
    "from IPython.display import Image\n",
    "from IPython.core.display import HTML \n",
    "Image(url= \"Assignment5.png\")"
   ]
  }
 ],
 "metadata": {
  "colab": {
   "default_view": {},
   "name": "5_word2vec.ipynb",
   "provenance": [],
   "version": "0.3.2",
   "views": {}
  },
  "kernelspec": {
   "display_name": "Python 2",
   "language": "python",
   "name": "python2"
  },
  "language_info": {
   "codemirror_mode": {
    "name": "ipython",
    "version": 2
   },
   "file_extension": ".py",
   "mimetype": "text/x-python",
   "name": "python",
   "nbconvert_exporter": "python",
   "pygments_lexer": "ipython2",
   "version": "2.7.6"
  }
 },
 "nbformat": 4,
 "nbformat_minor": 0
}
